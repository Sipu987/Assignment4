{
 "cells": [
  {
   "cell_type": "code",
   "execution_count": 1,
   "id": "537d12fc-38f1-49d1-a1b7-a3e6f97a0386",
   "metadata": {},
   "outputs": [],
   "source": [
    "#Q1. Explain Class and Object with respect to Object-Oriented Programming. Give a suitable example."
   ]
  },
  {
   "cell_type": "code",
   "execution_count": 34,
   "id": "71f88dae-d166-4062-a986-5ac1048a8210",
   "metadata": {},
   "outputs": [],
   "source": [
    "#Ans - Class is a collection of object. It indicates a group which has specific attribute. Object indicates \n",
    "# the behavior of that particular class.\n",
    "\n",
    "class carnivorous_animal:\n",
    "    \n",
    "    def  __init__(self,Food,Weight):\n",
    "        \n",
    "        self.Food = Food\n",
    "        self.Weight = Weight\n",
    "        \n",
    "    def Animal_Details(self):\n",
    "        return self.Food,self.Weight"
   ]
  },
  {
   "cell_type": "code",
   "execution_count": 16,
   "id": "3ffbb585-ff37-4097-8e7f-20eecc6176ef",
   "metadata": {},
   "outputs": [],
   "source": [
    "Tiger = carnivorous_animal('Flesh',100)"
   ]
  },
  {
   "cell_type": "code",
   "execution_count": 18,
   "id": "c9b87390-1f07-441d-ae67-c84d2c1af2c3",
   "metadata": {},
   "outputs": [
    {
     "data": {
      "text/plain": [
       "('Flesh', 100)"
      ]
     },
     "execution_count": 18,
     "metadata": {},
     "output_type": "execute_result"
    }
   ],
   "source": [
    "Tiger.Animal_Details()"
   ]
  },
  {
   "cell_type": "code",
   "execution_count": 19,
   "id": "356ab3c4-2ed1-4cf7-8559-6a43212485b7",
   "metadata": {},
   "outputs": [],
   "source": [
    "# Here Tiger is a class. Food, Weight are object of the class."
   ]
  },
  {
   "cell_type": "code",
   "execution_count": 20,
   "id": "277938ac-6f54-4df6-9906-13820e9be2b3",
   "metadata": {},
   "outputs": [],
   "source": [
    "# Q2. Name the four pillars of OOPs."
   ]
  },
  {
   "cell_type": "code",
   "execution_count": 21,
   "id": "72561cef-603f-4fb4-bbee-04db9900e85b",
   "metadata": {},
   "outputs": [],
   "source": [
    "#Ans :- Inheritance, Polymorphism,Encapsulation, Abstraction"
   ]
  },
  {
   "cell_type": "code",
   "execution_count": 22,
   "id": "7314f23a-c2f9-4b9e-aabe-7647a7c06361",
   "metadata": {},
   "outputs": [],
   "source": [
    "# Q3. Explain why the __init__() function is used. Give a suitable example."
   ]
  },
  {
   "cell_type": "code",
   "execution_count": 23,
   "id": "3d8982de-4f3c-46d0-a218-f682463700cd",
   "metadata": {},
   "outputs": [],
   "source": [
    "# Ans - __init__ is a methon which used for prepare the object inside a class. \n",
    "class Bird:\n",
    "    \n",
    "    def __init__(self,fly,walk):\n",
    "        \n",
    "        self.fly = fly\n",
    "        self.walk = walk\n",
    "    \n",
    "    def Bird_Details(self):\n",
    "        return self.fly,self.walk"
   ]
  },
  {
   "cell_type": "code",
   "execution_count": 24,
   "id": "9d7e4ad7-3b68-4248-9859-83f6f8a50eb7",
   "metadata": {},
   "outputs": [],
   "source": [
    "parrot = Bird('Can flay','Can walk')"
   ]
  },
  {
   "cell_type": "code",
   "execution_count": 25,
   "id": "c316c050-7d56-41d6-90c7-b085feeb504d",
   "metadata": {},
   "outputs": [
    {
     "data": {
      "text/plain": [
       "('Can flay', 'Can walk')"
      ]
     },
     "execution_count": 25,
     "metadata": {},
     "output_type": "execute_result"
    }
   ],
   "source": [
    "parrot.Bird_Details()"
   ]
  },
  {
   "cell_type": "code",
   "execution_count": 26,
   "id": "55f3fcef-7b70-4d2d-91f0-97bde438556c",
   "metadata": {},
   "outputs": [],
   "source": [
    "# Q4. Why self is used in OOPs?"
   ]
  },
  {
   "cell_type": "code",
   "execution_count": 27,
   "id": "dae69fc0-fd42-4c1d-bbda-6d5ee6c49146",
   "metadata": {},
   "outputs": [],
   "source": [
    "# Ans - slf is reference for instance of the class. We can access the attribute of the class by self"
   ]
  },
  {
   "cell_type": "code",
   "execution_count": 28,
   "id": "e98b54ce-d61d-44c0-b0f6-95904fc3347b",
   "metadata": {},
   "outputs": [],
   "source": [
    "# Q5. What is inheritance? Give an example for each type of inheritance."
   ]
  },
  {
   "cell_type": "code",
   "execution_count": 29,
   "id": "aacaf226-75c3-4ff7-8bdf-c799b03e20bb",
   "metadata": {},
   "outputs": [],
   "source": [
    "# Inheritance allow to create class which inherit the properties of other class. \n",
    "#We can say parent and child class. Child class inherit propertiies of parent class"
   ]
  },
  {
   "cell_type": "code",
   "execution_count": 30,
   "id": "5dd4275c-b0d6-4db7-a1fc-5a3152bd8270",
   "metadata": {},
   "outputs": [],
   "source": [
    "class carnivorous_animal:\n",
    "    \n",
    "    def  __init__(self,Food,Weight):\n",
    "        \n",
    "        self.Food = Food\n",
    "        self.Weight = Weight\n",
    "        \n",
    "    def Animal_Details(self):\n",
    "        return self.Food,self.Weight"
   ]
  },
  {
   "cell_type": "code",
   "execution_count": 32,
   "id": "9f89f2f5-0de0-48d1-a84c-eb04f9af118a",
   "metadata": {},
   "outputs": [],
   "source": [
    "Tiger=carnivorous_animal('Meat',110)"
   ]
  },
  {
   "cell_type": "code",
   "execution_count": 33,
   "id": "53d9958b-74c6-483d-a494-6e8464cc568d",
   "metadata": {},
   "outputs": [
    {
     "data": {
      "text/plain": [
       "('Meat', 110)"
      ]
     },
     "execution_count": 33,
     "metadata": {},
     "output_type": "execute_result"
    }
   ],
   "source": [
    "Tiger.Animal_Details()"
   ]
  },
  {
   "cell_type": "code",
   "execution_count": null,
   "id": "136eca3a-18fb-403c-9945-4d1b6f3ff371",
   "metadata": {},
   "outputs": [],
   "source": []
  }
 ],
 "metadata": {
  "kernelspec": {
   "display_name": "Python 3 (ipykernel)",
   "language": "python",
   "name": "python3"
  },
  "language_info": {
   "codemirror_mode": {
    "name": "ipython",
    "version": 3
   },
   "file_extension": ".py",
   "mimetype": "text/x-python",
   "name": "python",
   "nbconvert_exporter": "python",
   "pygments_lexer": "ipython3",
   "version": "3.10.8"
  }
 },
 "nbformat": 4,
 "nbformat_minor": 5
}
